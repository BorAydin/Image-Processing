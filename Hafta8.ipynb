{
 "cells": [
  {
   "cell_type": "code",
   "execution_count": 1,
   "metadata": {},
   "outputs": [],
   "source": [
    "\n",
    "import matplotlib.pyplot as plt\n",
    "import numpy as np\n",
    "import cv2\n",
    "import os.path"
   ]
  },
  {
   "cell_type": "code",
   "execution_count": 18,
   "metadata": {},
   "outputs": [
    {
     "data": {
      "text/plain": [
       "['.anaconda',\n",
       " '.aws',\n",
       " '.bash_history',\n",
       " '.conda',\n",
       " '.condarc',\n",
       " '.config',\n",
       " '.dotnet',\n",
       " '.gitconfig',\n",
       " '.ipynb_checkpoints',\n",
       " '.ipython',\n",
       " '.jupyter',\n",
       " '.keras',\n",
       " '.matplotlib',\n",
       " '.nuget',\n",
       " '.pgAdmin4.2123502176.addr',\n",
       " '.pgAdmin4.2123502176.log',\n",
       " '.pgAdmin4.startup.log',\n",
       " '.spyder-py3',\n",
       " '.ssh',\n",
       " '3D Objects',\n",
       " 'ansel',\n",
       " 'AppData',\n",
       " 'Application Data',\n",
       " 'Belgelerim',\n",
       " 'bsen2.jpg',\n",
       " 'bsen90.jpg',\n",
       " 'Contacts',\n",
       " 'Cookies',\n",
       " 'Desktop',\n",
       " 'Dev',\n",
       " 'dir',\n",
       " 'Documents',\n",
       " 'Downloads',\n",
       " 'Favorites',\n",
       " 'Hafta1.ipynb',\n",
       " 'Hafta2.ipynb',\n",
       " 'Hafta3.ipynb',\n",
       " 'Hafta4.ipynb',\n",
       " 'Hafta5.ipynb',\n",
       " 'Hafta7.ipynb',\n",
       " 'Intel',\n",
       " 'IntelGraphicsProfiles',\n",
       " 'Links',\n",
       " 'Local Settings',\n",
       " 'MG.ipynb',\n",
       " 'Music',\n",
       " 'NetHood',\n",
       " 'NTUSER.DAT',\n",
       " 'ntuser.dat.LOG1',\n",
       " 'ntuser.dat.LOG2',\n",
       " 'NTUSER.DAT{0f6ed95f-cb1f-11e9-87e6-58fb84eb1a54}.TM.blf',\n",
       " 'NTUSER.DAT{0f6ed95f-cb1f-11e9-87e6-58fb84eb1a54}.TMContainer00000000000000000001.regtrans-ms',\n",
       " 'NTUSER.DAT{0f6ed95f-cb1f-11e9-87e6-58fb84eb1a54}.TMContainer00000000000000000002.regtrans-ms',\n",
       " 'ntuser.ini',\n",
       " 'Pictures',\n",
       " 'PrintHood',\n",
       " 'Recent',\n",
       " 'Roaming',\n",
       " 'Saved Games',\n",
       " 'Searches',\n",
       " 'SendTo',\n",
       " 'source',\n",
       " 'Start Menu',\n",
       " 'Templates',\n",
       " 'Untitled.ipynb',\n",
       " 'Untitled1.ipynb',\n",
       " 'Untitled2.ipynb',\n",
       " 'Untitled3.ipynb',\n",
       " 'Videos']"
      ]
     },
     "execution_count": 18,
     "metadata": {},
     "output_type": "execute_result"
    }
   ],
   "source": [
    "os.listdir()"
   ]
  },
  {
   "cell_type": "code",
   "execution_count": 3,
   "metadata": {},
   "outputs": [
    {
     "data": {
      "text/plain": [
       "'C:\\\\Users\\\\BorA'"
      ]
     },
     "execution_count": 3,
     "metadata": {},
     "output_type": "execute_result"
    }
   ],
   "source": [
    "os.getcwd()"
   ]
  },
  {
   "cell_type": "code",
   "execution_count": 11,
   "metadata": {},
   "outputs": [],
   "source": [
    "data_main_folder=\"C:\\\\Users\\\\BorA\\\\Desktop\\\\IP Week8\\\\main_folder\""
   ]
  },
  {
   "cell_type": "code",
   "execution_count": 12,
   "metadata": {},
   "outputs": [],
   "source": [
    "dirs=[d for d in os.listdir(data_main_folder) if os.path.isdir(os.path.join(data_main_folder))]"
   ]
  },
  {
   "cell_type": "code",
   "execution_count": 13,
   "metadata": {},
   "outputs": [
    {
     "name": "stdout",
     "output_type": "stream",
     "text": [
      "['test', 'train']\n"
     ]
    }
   ],
   "source": [
    "print(dirs)"
   ]
  },
  {
   "cell_type": "code",
   "execution_count": 15,
   "metadata": {},
   "outputs": [],
   "source": [
    "data_faces_of_class = np.zeros((1000,100*100+1))\n",
    "folder_counter = -1\n",
    "s = -1\n",
    "for directory in dirs:\n",
    "    folder_counter = folder_counter +1\n",
    "    new_folder = data_main_folder+\"/\"+directory\n",
    "    \n",
    "    files= [d for d in os.listdir(new_folder) if os.path.isfile(os.path.join(new_folder))]\n",
    "    for file_ in files:\n",
    "        s=s+1\n",
    "        file_name_with_folder=new_folder+\"/\"+file_\n",
    "        print(file_name_with_folder)\n",
    "        ori_image=cv2.imread(file_name_with_folder)\n",
    "        print(ori_image.shape)\n",
    "        resized_img=cv2.resize(ori_image,(100,100))\n",
    "        print(resized_img.shape)\n",
    "\n",
    "        image_gray=cv2.cvtColor(resized_img,cv2.COLOR_BGR2GRAY)\n",
    "        print(image_gray.shape)\n",
    "        plt.imshow(image_gray)\n",
    "        plt.show()\n",
    "\n",
    "        image_gray_one_dim=image_gray.reshape(1,100*100)\n",
    "        print(image_gray_one_dim.shape)\n",
    "        data_faces_of_class[s,0]=folder_counter\n",
    "        data_faces_of_class[s,1:100*100+1]=image_gray_one_dim\n",
    "\n",
    "        cv2.imshow(\"original image\",resized_img)"
   ]
  },
  {
   "cell_type": "code",
   "execution_count": 16,
   "metadata": {},
   "outputs": [
    {
     "name": "stdout",
     "output_type": "stream",
     "text": [
      "(1000, 10001)\n"
     ]
    }
   ],
   "source": [
    "print(data_faces_of_class.shape)"
   ]
  },
  {
   "cell_type": "code",
   "execution_count": 17,
   "metadata": {},
   "outputs": [
    {
     "name": "stdout",
     "output_type": "stream",
     "text": [
      "[0. 0. 0. ... 0. 0. 0.]\n"
     ]
    }
   ],
   "source": [
    "print(data_faces_of_class[3])"
   ]
  },
  {
   "cell_type": "code",
   "execution_count": null,
   "metadata": {},
   "outputs": [],
   "source": []
  }
 ],
 "metadata": {
  "kernelspec": {
   "display_name": "Python 3",
   "language": "python",
   "name": "python3"
  },
  "language_info": {
   "codemirror_mode": {
    "name": "ipython",
    "version": 3
   },
   "file_extension": ".py",
   "mimetype": "text/x-python",
   "name": "python",
   "nbconvert_exporter": "python",
   "pygments_lexer": "ipython3",
   "version": "3.7.3"
  }
 },
 "nbformat": 4,
 "nbformat_minor": 2
}
