{
 "cells": [
  {
   "cell_type": "code",
   "execution_count": 17,
   "metadata": {},
   "outputs": [
    {
     "data": {
      "image/png": "[encoded data removed]",
      "text/plain": [
       "<Figure size 432x288 with 1 Axes>"
      ]
     },
     "metadata": {
      "needs_background": "light"
     },
     "output_type": "display_data"
    }
   ],
   "source": [
    "import matplotlib.pyplot as plt\n",
    "import numpy as np \n",
    "\n",
    "im1=plt.imread('C:\\\\Users\\\\BorA\\\\Downloads\\\\Resimler\\\\mini.jpg')\n",
    "im1.ndim\n",
    "im1.shape\n",
    "\n",
    "def histogram():\n",
    "    \n",
    "    m,n,p=im1.shape\n",
    "    hist={}\n",
    "    \n",
    "    for i in range(m):\n",
    "        for j in range(n):\n",
    "            \n",
    "            if im1[i,j,1] in hist.keys():\n",
    "                \n",
    "                hist[im1[i,j,1]]=hist[im1[i,j,1]]+1\n",
    "            \n",
    "            else:\n",
    "                \n",
    "                hist[im1[i,j,1]]=1\n",
    "            \n",
    "    return hist\n",
    "\n",
    "def create_histogram(hist=histogram()):\n",
    "    \n",
    "    x=[]\n",
    "    y=[]\n",
    "    \n",
    "    for key in hist.keys():\n",
    "        \n",
    "        x.append(key)\n",
    "        y.append(hist[key])\n",
    "        \n",
    "    return x,y        \n",
    "\n",
    "x,y=create_histogram()\n",
    "plt.bar(x,y)\n",
    "plt.show()"
   ]
  },
  {
   "cell_type": "code",
   "execution_count": null,
   "metadata": {},
   "outputs": [],
   "source": []
  }
 ],
 "metadata": {
  "kernelspec": {
   "display_name": "Python 3",
   "language": "python",
   "name": "python3"
  },
  "language_info": {
   "codemirror_mode": {
    "name": "ipython",
    "version": 3
   },
   "file_extension": ".py",
   "mimetype": "text/x-python",
   "name": "python",
   "nbconvert_exporter": "python",
   "pygments_lexer": "ipython3",
   "version": "3.7.3"
  }
 },
 "nbformat": 4,
 "nbformat_minor": 2
}
