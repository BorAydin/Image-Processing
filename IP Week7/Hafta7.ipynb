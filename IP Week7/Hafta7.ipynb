{
 "cells": [
  {
   "cell_type": "code",
   "execution_count": 1,
   "metadata": {},
   "outputs": [
    {
     "data": {
      "text/plain": [
       "([5, 0], [2, 6])"
      ]
     },
     "execution_count": 1,
     "metadata": {},
     "output_type": "execute_result"
    }
   ],
   "source": [
    "import os\n",
    "import numpy as np\n",
    "import matplotlib.pyplot as plt\n",
    "import random\n",
    "\n",
    "v1=[5,0]\n",
    "v2=[2,6]\n",
    "v1,v2"
   ]
  },
  {
   "cell_type": "code",
   "execution_count": 2,
   "metadata": {},
   "outputs": [
    {
     "data": {
      "text/plain": [
       "[5, 0, 2, 6]"
      ]
     },
     "execution_count": 2,
     "metadata": {},
     "output_type": "execute_result"
    }
   ],
   "source": [
    "v1+v2"
   ]
  },
  {
   "cell_type": "code",
   "execution_count": 6,
   "metadata": {},
   "outputs": [],
   "source": [
    "def vec_add(vec1,vec2):\n",
    "    \n",
    "    v3=[0,0]\n",
    "    v3[0]=vec1[0]+vec2[0]\n",
    "    v3[1]=vec1[1]+vec2[1]\n",
    "    \n",
    "    return v3\n",
    "\n",
    "def vec_add2(vec1,vec2):\n",
    "    \n",
    "    s=len(vec1)\n",
    "    v4=[]\n",
    "    \n",
    "    for i in range (s):\n",
    "       temp=vec1[i]+vec2[i]\n",
    "       v4.append(temp)\n",
    "    \n",
    "    return v4\n",
    "\n",
    "def create_vec(m=5,n=2):\n",
    "    \n",
    "    m,n=4,3\n",
    "    v5=[]\n",
    "    \n",
    "    for i in range(m):\n",
    "        v5.append([])\n",
    "        \n",
    "        for j in range(n):\n",
    "            r=random.randint(0,10)\n",
    "            v5[i].append(r)\n",
    "            \n",
    "    return v5        \n",
    "    \n",
    "    "
   ]
  },
  {
   "cell_type": "code",
   "execution_count": 7,
   "metadata": {},
   "outputs": [
    {
     "data": {
      "text/plain": [
       "[7, 6]"
      ]
     },
     "execution_count": 7,
     "metadata": {},
     "output_type": "execute_result"
    }
   ],
   "source": [
    "vec_add(v1,v2)"
   ]
  },
  {
   "cell_type": "code",
   "execution_count": 8,
   "metadata": {},
   "outputs": [
    {
     "data": {
      "text/plain": [
       "[7, 6]"
      ]
     },
     "execution_count": 8,
     "metadata": {},
     "output_type": "execute_result"
    }
   ],
   "source": [
    "vec_add2(v1,v2)"
   ]
  },
  {
   "cell_type": "code",
   "execution_count": 9,
   "metadata": {},
   "outputs": [
    {
     "data": {
      "text/plain": [
       "[[4, 0, 2], [2, 6, 3], [8, 0, 0], [3, 3, 10]]"
      ]
     },
     "execution_count": 9,
     "metadata": {},
     "output_type": "execute_result"
    }
   ],
   "source": [
    "create_vec()"
   ]
  },
  {
   "cell_type": "code",
   "execution_count": 15,
   "metadata": {},
   "outputs": [],
   "source": [
    "def center(vec1,vec2):\n",
    "    \n",
    "     s=len(vec1)\n",
    "     v6=[]\n",
    "     \n",
    "     for i in range (s):\n",
    "         temp=(vec1[i]+vec2[i])/2\n",
    "         v6.append(temp)\n",
    "    \n",
    "     return v6"
   ]
  },
  {
   "cell_type": "code",
   "execution_count": 16,
   "metadata": {},
   "outputs": [
    {
     "data": {
      "text/plain": [
       "[3.5, 3.0]"
      ]
     },
     "execution_count": 16,
     "metadata": {},
     "output_type": "execute_result"
    }
   ],
   "source": [
    "center(v1,v2)"
   ]
  },
  {
   "cell_type": "code",
   "execution_count": 17,
   "metadata": {},
   "outputs": [],
   "source": [
    "def hipo(vec1,vec2):\n",
    "    \n",
    "     s=len(vec1)\n",
    "     result=0\n",
    "     \n",
    "     for i in range (s):\n",
    "         result+=(vec1[i]-vec2[i])**2\n",
    "        \n",
    "     return result**0.5"
   ]
  },
  {
   "cell_type": "code",
   "execution_count": 18,
   "metadata": {},
   "outputs": [
    {
     "data": {
      "text/plain": [
       "5.0"
      ]
     },
     "execution_count": 18,
     "metadata": {},
     "output_type": "execute_result"
    }
   ],
   "source": [
    "v7=[3,0]\n",
    "v8=[0,4]\n",
    "\n",
    "hipo(v7,v8)"
   ]
  },
  {
   "cell_type": "code",
   "execution_count": null,
   "metadata": {},
   "outputs": [],
   "source": []
  }
 ],
 "metadata": {
  "kernelspec": {
   "display_name": "Python 3",
   "language": "python",
   "name": "python3"
  },
  "language_info": {
   "codemirror_mode": {
    "name": "ipython",
    "version": 3
   },
   "file_extension": ".py",
   "mimetype": "text/x-python",
   "name": "python",
   "nbconvert_exporter": "python",
   "pygments_lexer": "ipython3",
   "version": "3.7.3"
  }
 },
 "nbformat": 4,
 "nbformat_minor": 2
}
